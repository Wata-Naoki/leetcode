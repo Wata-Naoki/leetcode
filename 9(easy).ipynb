{
  "nbformat": 4,
  "nbformat_minor": 0,
  "metadata": {
    "colab": {
      "provenance": [],
      "authorship_tag": "ABX9TyMad/bXCdRm/yDFKSTfbYuJ",
      "include_colab_link": true
    },
    "kernelspec": {
      "name": "python3",
      "display_name": "Python 3"
    },
    "language_info": {
      "name": "python"
    }
  },
  "cells": [
    {
      "cell_type": "markdown",
      "metadata": {
        "id": "view-in-github",
        "colab_type": "text"
      },
      "source": [
        "<a href=\"https://colab.research.google.com/github/Wata-Naoki/leetcode/blob/main/9(easy).ipynb\" target=\"_parent\"><img src=\"https://colab.research.google.com/assets/colab-badge.svg\" alt=\"Open In Colab\"/></a>"
      ]
    },
    {
      "cell_type": "code",
      "execution_count": null,
      "metadata": {
        "colab": {
          "base_uri": "https://localhost:8080/"
        },
        "id": "3q8LGlCNjyqs",
        "outputId": "73d33264-3d8f-4b62-c2c9-08de3550f605"
      },
      "outputs": [
        {
          "output_type": "stream",
          "name": "stdout",
          "text": [
            "121\n",
            "True\n"
          ]
        }
      ],
      "source": [
        "class Solution:\n",
        "    def isPalindrome(self, x: int) -> bool:\n",
        "      flag=False\n",
        "      str_x = str(x)\n",
        "      if str_x == \"\".join(reversed(str_x)):\n",
        "        flag = True\n",
        "      else:\n",
        "        flag=False\n",
        "      return flag\n",
        "\n",
        "    \n",
        "x=int(input())\n",
        "print(Solution().isPalindrome(x))"
      ]
    }
  ]
}