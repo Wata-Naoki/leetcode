{
  "nbformat": 4,
  "nbformat_minor": 0,
  "metadata": {
    "colab": {
      "provenance": [],
      "authorship_tag": "ABX9TyPW0fObugwzOu864ITGUvAB",
      "include_colab_link": true
    },
    "kernelspec": {
      "name": "python3",
      "display_name": "Python 3"
    },
    "language_info": {
      "name": "python"
    }
  },
  "cells": [
    {
      "cell_type": "markdown",
      "metadata": {
        "id": "view-in-github",
        "colab_type": "text"
      },
      "source": [
        "<a href=\"https://colab.research.google.com/github/Wata-Naoki/leetcode/blob/main/14(easy).ipynb\" target=\"_parent\"><img src=\"https://colab.research.google.com/assets/colab-badge.svg\" alt=\"Open In Colab\"/></a>"
      ]
    },
    {
      "cell_type": "code",
      "execution_count": 12,
      "metadata": {
        "colab": {
          "base_uri": "https://localhost:8080/"
        },
        "id": "CS58wXc22_Q7",
        "outputId": "529d32fc-d70f-45d5-9423-fac90db6f920"
      },
      "outputs": [
        {
          "output_type": "stream",
          "name": "stdout",
          "text": [
            "a\n",
            "\n"
          ]
        }
      ],
      "source": [
        "strs = [n for n in input().split()]\n",
        "\n",
        "strs.sort(key=len)\n",
        "ans=\"\"\n",
        "for i in range(len(strs[0])):\n",
        "  count=0\n",
        "  for val in strs:\n",
        "    if strs[0][:i+1] in val[:i+1]:\n",
        "      count+=1\n",
        "      if count==len(strs):\n",
        "        ans = strs[0][:i+1]\n",
        "  \n",
        "print(ans)"
      ]
    },
    {
      "cell_type": "code",
      "source": [
        "a=['11', '22', '33']\n",
        "print(len(a))"
      ],
      "metadata": {
        "colab": {
          "base_uri": "https://localhost:8080/"
        },
        "id": "Rq6_mAvH6H-_",
        "outputId": "6f243482-069e-44d8-c91b-931314607c9e"
      },
      "execution_count": 6,
      "outputs": [
        {
          "output_type": "stream",
          "name": "stdout",
          "text": [
            "3\n"
          ]
        }
      ]
    },
    {
      "cell_type": "code",
      "source": [],
      "metadata": {
        "id": "jymSr8Fp5RGx"
      },
      "execution_count": null,
      "outputs": []
    },
    {
      "cell_type": "code",
      "source": [
        "a='1234'\n",
        "print(a[:0])"
      ],
      "metadata": {
        "colab": {
          "base_uri": "https://localhost:8080/"
        },
        "id": "etbaMbWp5JGX",
        "outputId": "741f2954-88b0-4b01-f1f9-a1b10b6c9c38"
      },
      "execution_count": 5,
      "outputs": [
        {
          "output_type": "stream",
          "name": "stdout",
          "text": [
            "\n"
          ]
        }
      ]
    }
  ]
}