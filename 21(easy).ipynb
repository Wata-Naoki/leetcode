{
  "nbformat": 4,
  "nbformat_minor": 0,
  "metadata": {
    "colab": {
      "provenance": [],
      "authorship_tag": "ABX9TyPDzKMidhNAj9FH8EoPx4c3",
      "include_colab_link": true
    },
    "kernelspec": {
      "name": "python3",
      "display_name": "Python 3"
    },
    "language_info": {
      "name": "python"
    }
  },
  "cells": [
    {
      "cell_type": "markdown",
      "metadata": {
        "id": "view-in-github",
        "colab_type": "text"
      },
      "source": [
        "<a href=\"https://colab.research.google.com/github/Wata-Naoki/leetcode/blob/main/21(easy).ipynb\" target=\"_parent\"><img src=\"https://colab.research.google.com/assets/colab-badge.svg\" alt=\"Open In Colab\"/></a>"
      ]
    },
    {
      "cell_type": "code",
      "execution_count": 3,
      "metadata": {
        "colab": {
          "base_uri": "https://localhost:8080/"
        },
        "id": "64ZzRVMgNor2",
        "outputId": "11571777-4ea7-4f06-a728-a91d8edf8ef4"
      },
      "outputs": [
        {
          "output_type": "stream",
          "name": "stdout",
          "text": [
            "1 2 4\n",
            "1 3 5\n",
            "[1, 1, 2, 3, 4, 5]\n"
          ]
        }
      ],
      "source": [
        "ans_list=[]\n",
        "list1=[int(n) for n in input().split()]\n",
        "list2=[int(n) for n in input().split()]\n",
        "\n",
        "ans_list += list1+list2\n",
        "ans_list.sort()\n",
        "print(ans_list)"
      ]
    },
    {
      "cell_type": "code",
      "source": [],
      "metadata": {
        "id": "kxz1P3umTmsx"
      },
      "execution_count": null,
      "outputs": []
    }
  ]
}