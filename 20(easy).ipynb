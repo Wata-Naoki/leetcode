{
  "nbformat": 4,
  "nbformat_minor": 0,
  "metadata": {
    "colab": {
      "provenance": [],
      "authorship_tag": "ABX9TyNO6NujlKwnvxQjsjPjlbop",
      "include_colab_link": true
    },
    "kernelspec": {
      "name": "python3",
      "display_name": "Python 3"
    },
    "language_info": {
      "name": "python"
    }
  },
  "cells": [
    {
      "cell_type": "markdown",
      "metadata": {
        "id": "view-in-github",
        "colab_type": "text"
      },
      "source": [
        "<a href=\"https://colab.research.google.com/github/Wata-Naoki/leetcode/blob/main/20(easy).ipynb\" target=\"_parent\"><img src=\"https://colab.research.google.com/assets/colab-badge.svg\" alt=\"Open In Colab\"/></a>"
      ]
    },
    {
      "cell_type": "code",
      "source": [
        "class Solution(object):\n",
        "    def isValid(self, s):\n",
        "        \"\"\"\n",
        "        :type s: str\n",
        "        :rtype: bool\n",
        "        \"\"\"\n",
        "        dict = {')': '(', ']':'[', '}': '{'}\n",
        "        stack = []\n",
        "        \n",
        "        for c in s:\n",
        "            if c in dict.values():\n",
        "                stack.append(c)\n",
        "            elif stack != [] and dict[c] == stack[-1]:\n",
        "                stack.pop()\n",
        "            else:\n",
        "                return False\n",
        "        \n",
        "        return stack == []\n",
        "\n",
        "#   '(', ')', '{', '}', '[' and ']'のどれかor組み合わせ。ex) \"()[]{}\"\n",
        "s=input()\n",
        "ans = Solution().isValid(s)\n",
        "print(ans)"
      ],
      "metadata": {
        "colab": {
          "base_uri": "https://localhost:8080/"
        },
        "id": "_o9ASHDoMd8x",
        "outputId": "e91400bd-5ed3-41aa-a58d-6da68bc5d2fa"
      },
      "execution_count": 29,
      "outputs": [
        {
          "output_type": "stream",
          "name": "stdout",
          "text": [
            "\"()[]{}\"\n",
            "False\n"
          ]
        }
      ]
    },
    {
      "cell_type": "code",
      "execution_count": null,
      "metadata": {
        "id": "tcKJd4vz6T63"
      },
      "outputs": [],
      "source": [
        "\n",
        "s += ['0']\n",
        "print(s)\n",
        "flag=True\n",
        "for i, k in enumerate(s):\n",
        "  if k=='(':\n",
        "    if s[i+1]==')':\n",
        "      continue\n",
        "    else:\n",
        "      flag=False\n",
        "      break\n",
        "\n",
        "  if k=='[':\n",
        "    if s[i+1]==']':\n",
        "      continue\n",
        "    else:\n",
        "      flag=False\n",
        "      break\n",
        "  \n",
        "  if k=='{':\n",
        "    if s[i+1]=='}':\n",
        "      continue\n",
        "    else:\n",
        "      flag=False\n",
        "      break\n",
        "\n",
        "print('true' if flag else 'false')"
      ]
    },
    {
      "cell_type": "code",
      "source": [
        "s=list(\"()[]{}\")\n",
        "\n",
        "flag=True\n",
        "for i, k in enumerate(s):\n",
        "  if k=='(':\n",
        "    if s[i+1]==')':\n",
        "      continue\n",
        "    else:\n",
        "      flag=False\n",
        "      break\n",
        "\n",
        "  if k=='[':\n",
        "    if s[i+1]==']':\n",
        "      continue\n",
        "    else:\n",
        "      flag=False\n",
        "      break\n",
        "  \n",
        "  if k=='{':\n",
        "    if s[i+1]=='}':\n",
        "      continue\n",
        "    else:\n",
        "      flag=False\n",
        "      break\n",
        "\n",
        "print('true' if flag else 'false')\n",
        "  "
      ],
      "metadata": {
        "colab": {
          "base_uri": "https://localhost:8080/"
        },
        "id": "BFAgZGi_6sp5",
        "outputId": "73fc34a0-85b4-4f6f-9ac1-b23d1555fb5b"
      },
      "execution_count": 3,
      "outputs": [
        {
          "output_type": "stream",
          "name": "stdout",
          "text": [
            "['(', ')', '[', ']', '{', '}']\n",
            "true\n"
          ]
        }
      ]
    },
    {
      "cell_type": "code",
      "source": [
        "s=input()\n",
        "s=list(s)\n",
        "s += ['0']\n",
        "print(s)\n",
        "flag=True\n",
        "for i, k in enumerate(s):\n",
        "  if k=='(':\n",
        "    if s[i+1]==')':\n",
        "      continue\n",
        "    else:\n",
        "      flag=False\n",
        "      break\n",
        "\n",
        "  if k=='[':\n",
        "    if s[i+1]==']':\n",
        "      continue\n",
        "    else:\n",
        "      flag=False\n",
        "      break\n",
        "  \n",
        "  if k=='{':\n",
        "    if s[i+1]=='}':\n",
        "      continue\n",
        "    else:\n",
        "      flag=False\n",
        "      break\n",
        "\n",
        "print('true' if flag else 'false')"
      ],
      "metadata": {
        "colab": {
          "base_uri": "https://localhost:8080/"
        },
        "id": "pdusI8Yx80Fh",
        "outputId": "7439f2cd-fe95-4a8a-f325-3da08c65572b"
      },
      "execution_count": 11,
      "outputs": [
        {
          "output_type": "stream",
          "name": "stdout",
          "text": [
            "{[]}\n",
            "['{', '[', ']', '}', '0']\n",
            "false\n"
          ]
        }
      ]
    },
    {
      "cell_type": "code",
      "source": [],
      "metadata": {
        "id": "unlsTqvmBa87"
      },
      "execution_count": null,
      "outputs": []
    },
    {
      "cell_type": "code",
      "source": [
        "s=list(\"{[]}\")\n",
        "dict = {')': '(', ']':'[', '}': '{'}\n",
        "stack = []\n",
        "flag=True\n",
        "for c in s:\n",
        "  if c in dict.values():\n",
        "    stack.append(c)\n",
        "  elif stack != [] and dict[c] == stack[-1]:\n",
        "    print(c, dict[c], ' ',stack[-1], ' ', stack)\n",
        "    a=stack.pop()\n",
        "    print(a, )\n",
        "  else:\n",
        "    flag= False\n",
        "\n",
        "print(flag)"
      ],
      "metadata": {
        "colab": {
          "base_uri": "https://localhost:8080/"
        },
        "id": "NixKR5yUBbDs",
        "outputId": "865e9bb0-9770-4335-dd83-f67fe70ef6bd"
      },
      "execution_count": 25,
      "outputs": [
        {
          "output_type": "stream",
          "name": "stdout",
          "text": [
            "] [   [   ['{', '[']\n",
            "[\n",
            "} {   {   ['{']\n",
            "{\n",
            "True\n"
          ]
        }
      ]
    },
    {
      "cell_type": "code",
      "source": [],
      "metadata": {
        "id": "R3PShpATMdFX"
      },
      "execution_count": null,
      "outputs": []
    },
    {
      "cell_type": "code",
      "source": [
        "s=['1', '2', '3']\n",
        "\n",
        "print(s[-1])"
      ],
      "metadata": {
        "colab": {
          "base_uri": "https://localhost:8080/"
        },
        "id": "AIOJox5aDM0X",
        "outputId": "fa2ee2e9-f54b-43ff-d846-afe67f3ac9c3"
      },
      "execution_count": 19,
      "outputs": [
        {
          "output_type": "stream",
          "name": "stdout",
          "text": [
            "3\n"
          ]
        }
      ]
    },
    {
      "cell_type": "code",
      "source": [],
      "metadata": {
        "id": "gPJCXBIVDM3K"
      },
      "execution_count": null,
      "outputs": []
    },
    {
      "cell_type": "code",
      "source": [],
      "metadata": {
        "id": "BrXCa4UYDM5F"
      },
      "execution_count": null,
      "outputs": []
    }
  ]
}